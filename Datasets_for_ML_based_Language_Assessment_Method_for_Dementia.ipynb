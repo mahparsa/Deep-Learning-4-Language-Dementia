{
  "nbformat": 4,
  "nbformat_minor": 0,
  "metadata": {
    "colab": {
      "name": "Datasets for ML-based-Language-Assessment-Method-for-Dementia.ipynb",
      "provenance": [],
      "toc_visible": true
    },
    "kernelspec": {
      "name": "python3",
      "display_name": "Python 3"
    },
    "language_info": {
      "name": "python"
    }
  },
  "cells": [
    {
      "cell_type": "markdown",
      "source": [
        "# Datasets\n"
      ],
      "metadata": {
        "id": "h78IMUjTJEMi"
      }
    },
    {
      "cell_type": "markdown",
      "source": [
        "Machine Learning (ML) algorithms can help clinicians to do early detection of dementia or differentiating between different subtypes of dementia, however, the must be trained by collected speech and language datasets from patients. \n",
        "ML developers need labeled speech and language datasets of patients with dementia in order to be able to develop supervised ML algorithms which can help clincians to detect language impairments associated with dementia in patients. Here, we review several benchmark speech and language datasets. Interested readers can refer to a report about language datasets have been provided by members of [SAAM project](https://colab.research.google.com/drive/153DlMyrjuckrtUGKxnBCZhe4VxygY4Hx#scrollTo=wXVy3AZ1JJsO&line=4&uniqifier=1)\n",
        "\n"
      ],
      "metadata": {
        "id": "wXVy3AZ1JJsO"
      }
    },
    {
      "cell_type": "markdown",
      "source": [
        "\n",
        "## DementiaBank \n",
        "The datasets is collected as a part of a project named TalkBank and has been done as a part of the Alzheimer Research Program at the University of Pittsburgh. [DementiaBank](https://dementia.talkbank.org/access/) contains eight corpora in English and one in German, two corpora in Mandarin, one in Spanish, and one in Taiwanese. The DementiaBank datasets were obtained using various language tests, including the BNT, LFT, PD, and SR task. \n",
        "Pitt corpus is the main corpus in DementiaBank, which has been collected longitudinally, between 1983 and 1988, every year from around 200 patients with AD and 100 healthy controls. The dataset contains several subcorpora, generated according to neuropsychological tasks (e.g., cookie theft description task, a word fluency task, a story recall task, and a sentence construction task) performed by either the healthy participants or only by dementia participants. \n",
        "DementiaBank is datasets collected as a part of a project named TalkBank and has been done as a part of the Alzheimer Research Program at the University of Pittsburgh. DementiaBank contains eight corpora in English and one corpus in German, two corpora in Mandarin, one corpus in Spanish, and one corpus in Taiwanese. \n",
        "DementiaBank is part of a project named TalkBank and has been done as part of the Alzheimer Research Program at the University of Pittsburgh. DementiaBank contains 8 corpora in English and 1 corpus in German, two corpora in Mandarin, 1 corpus in Spanish and 1 corpus in Taiwanese. The main corpus of the DB \n",
        "has been collected by recording the voice of patients with AD ($N$=167) and healthy control ($N$=97) while completing a PD task\n",
        "\n",
        "Pitt corpus is the main corpus in DementiaBank, which has been collected longitudinally, between 1983 and 1988, every year from around 200 patients with AD and 100 healthy controls. The dataset contains several subcorpora, generated according to neuropsychological tasks performed by the participants: 1) the Cookie Theft description task, 2) the word 3) fluency task, 4) the story recall task and 5) the sentence construction task, which are, depending on the task,\n",
        "performed either by healthy and dementia participants or only by dementia participants. \n"
      ],
      "metadata": {
        "id": "N-5Kma99Lh05"
      }
    },
    {
      "cell_type": "markdown",
      "source": [
        "## Carolina Conversations Collections (CCC)\n",
        "The [CCC dataset](https://https://carolinaconversations.musc.edu/ccc/about/)\n",
        "is a speech dataset collected from US English speakers talking about their health and their experiences with health care. In more detail, it consists of conversations between adults older than 60 years and young interviewers. A research group from the Medical University of South Carolina (MUSC) has collected the CCC dataset. The dataset consists of 125 speech files provided by older speakers without any impairments and 125 speech files collected from speakers who have dementia. Each participant gave two audio-recorded interviews that were recorded."
      ],
      "metadata": {
        "id": "iNCfHC6POoe2"
      }
    },
    {
      "cell_type": "markdown",
      "source": [
        "## Dementia Blog Corpus\n",
        "The [dataset](https://github.com/vmasrani/blog_corpus) is a corpus that has been built of several thousand blog posts. The main aim of creating the corpus has been to investigate if there are some linguistic markers to make a differentiation for patients with dementia from those without. The dataset can  dataset to train and test several machine learning methods, and achieve prediction performance at a level far above the baseline.\n",
        "\n",
        "\n"
      ],
      "metadata": {
        "id": "p4BYKd7vdZTO"
      }
    },
    {
      "cell_type": "markdown",
      "source": [
        "## Alzheimer's Dementia Recognition through Spontaneous Speech or ADReSS Challenge Dataset\n",
        "The [ADReSS Challenge dataset ](http://www.homepages.ed.ac.uk/sluzfil/ADReSS/)has been developed by modifying the Pitt corpus. It includes audio and text files for each subject and has a balanced distribution in terms of classes, age, and gender. \n",
        "In more detail, the ADReSS Challenge dataset includes data from 82 AD and 82 non-AD participants, of which 54 AD and 54 non-AD participants are included in the train set. "
      ],
      "metadata": {
        "id": "MN8JN8QZgavw"
      }
    }
  ]
}